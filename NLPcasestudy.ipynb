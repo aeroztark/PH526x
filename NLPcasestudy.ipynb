{
 "cells": [
  {
   "cell_type": "code",
   "execution_count": 6,
   "metadata": {},
   "outputs": [],
   "source": [
    "sampltext = \"This is a sample text to test the program. We will count the number of unique words in text.\""
   ]
  },
  {
   "cell_type": "code",
   "execution_count": null,
   "metadata": {},
   "outputs": [],
   "source": [
    "def read_book(title_path):\n",
    "    \"\"\"This function reads a book as txt file and returns its text after stripping \\n and \\r characters\"\"\"\n",
    "    with open(title_path,\"r\",encoding=\"utf-8\") as f:\n",
    "        text = f.read()\n",
    "        text = text.replace(\"\\n\",\"\")\n",
    "        text = text.replace(\"\\r\",\"\")\n",
    "    return text"
   ]
  },
  {
   "cell_type": "code",
   "execution_count": 25,
   "metadata": {},
   "outputs": [],
   "source": [
    "from collections import Counter\n",
    "\n",
    "def count_words(text):\n",
    "    \"\"\"This function reads in text and returns a dictionary of unique word counts\"\"\"\n",
    "    text = text.lower()    #to not count capitalized as different word\n",
    "    skips = [\".\",\",\",\":\",\";\",\"'\",'\"']   #remove punctuation to avoid duplication\n",
    "    for punct in skips:\n",
    "        text = text.replace(punct,\"\")\n",
    "    \n",
    "    word_counts = Counter(text.split(\" \"))  \n",
    "    return word_counts"
   ]
  },
  {
   "cell_type": "code",
   "execution_count": 29,
   "metadata": {},
   "outputs": [],
   "source": [
    "def word_stats(word_counts): \n",
    "    \"\"\"This function takes in the result of count_words function and outputs total number of unique words and counts of occurence\"\"\"\n",
    "    num_unique = len(word_counts) \n",
    "    counts = word_counts.values() \n",
    "    return (num_unique, counts)"
   ]
  },
  {
   "cell_type": "code",
   "execution_count": 30,
   "metadata": {},
   "outputs": [
    {
     "data": {
      "text/plain": [
       "(17, dict_values([1, 1, 1, 1, 2, 1, 1, 2, 1, 1, 1, 1, 1, 1, 1, 1, 1]))"
      ]
     },
     "execution_count": 30,
     "metadata": {},
     "output_type": "execute_result"
    }
   ],
   "source": [
    "word_stats(count_words(sampltext))"
   ]
  },
  {
   "cell_type": "code",
   "execution_count": 2,
   "metadata": {},
   "outputs": [],
   "source": [
    "import pandas as pd\n",
    "myframe = pd.DataFrame(columns=(\"name\",\"age\"))"
   ]
  },
  {
   "cell_type": "code",
   "execution_count": 12,
   "metadata": {},
   "outputs": [],
   "source": [
    "myframe.loc[1] = \"Hamilton\",\"55\""
   ]
  },
  {
   "cell_type": "code",
   "execution_count": null,
   "metadata": {},
   "outputs": [],
   "source": []
  }
 ],
 "metadata": {
  "kernelspec": {
   "display_name": "Python 3",
   "language": "python",
   "name": "python3"
  },
  "language_info": {
   "codemirror_mode": {
    "name": "ipython",
    "version": 3
   },
   "file_extension": ".py",
   "mimetype": "text/x-python",
   "name": "python",
   "nbconvert_exporter": "python",
   "pygments_lexer": "ipython3",
   "version": "3.7.7"
  }
 },
 "nbformat": 4,
 "nbformat_minor": 4
}
